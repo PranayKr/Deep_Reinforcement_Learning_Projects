{
 "cells": [
  {
   "cell_type": "markdown",
   "metadata": {},
   "source": [
    "# Navigation for Banana-Collector Unity ML Agent using \n",
    "# Deep Q-Learning Algorithm"
   ]
  },
  {
   "cell_type": "code",
   "execution_count": 1,
   "metadata": {},
   "outputs": [],
   "source": [
    "from unityagents import UnityEnvironment\n",
    "import numpy as np\n",
    "from DeepQN_Agent import Agent"
   ]
  },
  {
   "cell_type": "markdown",
   "metadata": {},
   "source": [
    "Next, we will start the environment!  **_Before running the code cell below_**, change the `file_name` parameter to match the location of the Unity environment that you downloaded.\n",
    "\n",
    "- **Mac**: `\"path/to/Banana.app\"`\n",
    "- **Windows** (x86): `\"path/to/Banana_Windows_x86/Banana.exe\"`\n",
    "- **Windows** (x86_64): `\"path/to/Banana_Windows_x86_64/Banana.exe\"`\n",
    "- **Linux** (x86): `\"path/to/Banana_Linux/Banana.x86\"`\n",
    "- **Linux** (x86_64): `\"path/to/Banana_Linux/Banana.x86_64\"`\n",
    "- **Linux** (x86, headless): `\"path/to/Banana_Linux_NoVis/Banana.x86\"`\n",
    "- **Linux** (x86_64, headless): `\"path/to/Banana_Linux_NoVis/Banana.x86_64\"`\n",
    "\n",
    "For instance, if you are using a Mac, then you downloaded `Banana.app`.  If this file is in the same folder as the notebook, then the line below should appear as follows:\n",
    "```\n",
    "env = UnityEnvironment(file_name=\"Banana.app\")\n",
    "```"
   ]
  },
  {
   "cell_type": "code",
   "execution_count": 2,
   "metadata": {},
   "outputs": [],
   "source": [
    "#env = UnityEnvironment(file_name=\"Banana_Windows_x86_64/Banana_Windows_x86_64/Banana.exe\")"
   ]
  },
  {
   "cell_type": "markdown",
   "metadata": {},
   "source": [
    "Environments contain **_brains_** which are responsible for deciding the actions of their associated agents. Here we check for the first brain available, and set it as the default brain we will be controlling from Python."
   ]
  },
  {
   "cell_type": "code",
   "execution_count": 3,
   "metadata": {},
   "outputs": [],
   "source": [
    "# get the default brain\n",
    "#brain_name = env.brain_names[0]\n",
    "#brain = env.brains[brain_name]\n",
    "\n",
    "#print(brain_name)\n",
    "\n",
    "#print(brain)"
   ]
  },
  {
   "cell_type": "markdown",
   "metadata": {},
   "source": [
    "### 2. Examine the State and Action Spaces\n",
    "\n",
    "The simulation contains a single agent that navigates a large environment.  At each time step, it has four actions at its disposal:\n",
    "- `0` - walk forward \n",
    "- `1` - walk backward\n",
    "- `2` - turn left\n",
    "- `3` - turn right\n",
    "\n",
    "The state space has `37` dimensions and contains the agent's velocity, along with ray-based perception of objects around agent's forward direction.  A reward of `+1` is provided for collecting a yellow banana, and a reward of `-1` is provided for collecting a blue banana. \n",
    "\n",
    "Run the code cell below to print some information about the environment."
   ]
  },
  {
   "cell_type": "code",
   "execution_count": 4,
   "metadata": {},
   "outputs": [],
   "source": [
    "# reset the environment\n",
    "#env_info = env.reset(train_mode=True)[brain_name]\n",
    "\n",
    "# number of agents in the environment\n",
    "#print('Number of agents:', len(env_info.agents))\n",
    "\n",
    "# number of actions\n",
    "#action_size = brain.vector_action_space_size\n",
    "#print('Number of actions:', action_size)\n",
    "\n",
    "# examine the state space \n",
    "#state = env_info.vector_observations[0]\n",
    "#print('States look like:', state)\n",
    "#state_size = len(state)\n",
    "#print('States have length:', state_size)"
   ]
  },
  {
   "cell_type": "markdown",
   "metadata": {},
   "source": [
    "### 3. Take Random Actions in the Environment\n",
    "\n",
    "In the next code cell, you will learn how to use the Python API to control the agent and receive feedback from the environment.\n",
    "\n",
    "Once this cell is executed, you will watch the agent's performance, if it selects an action (uniformly) at random with each time step.  A window should pop up that allows you to observe the agent, as it moves through the environment.  \n",
    "\n",
    "Of course, as part of the project, you'll have to change the code so that the agent is able to use its experience to gradually choose better actions when interacting with the environment!"
   ]
  },
  {
   "cell_type": "code",
   "execution_count": 5,
   "metadata": {},
   "outputs": [],
   "source": [
    "#env_info = env.reset(train_mode=False)[brain_name] # reset the environment\n",
    "#state = env_info.vector_observations[0]            # get the current state\n",
    "#score = 0                                          # initialize the score\n",
    "#while True:\n",
    "    #action = np.random.randint(action_size)        # select an action\n",
    "    #env_info = env.step(action)[brain_name]        # send the action to the environment\n",
    "    #next_state = env_info.vector_observations[0]   # get the next state\n",
    "    #reward = env_info.rewards[0]                   # get the reward\n",
    "    #done = env_info.local_done[0]                  # see if episode has finished\n",
    "    #score += reward                                # update the score\n",
    "    #state = next_state                             # roll over the state to next time step\n",
    "    #if done:                                       # exit loop if episode finished\n",
    "        #break\n",
    "    \n",
    "#print(\"Score: {}\".format(score))\"\"\""
   ]
  },
  {
   "cell_type": "markdown",
   "metadata": {},
   "source": [
    "When finished, you can close the environment."
   ]
  },
  {
   "cell_type": "code",
   "execution_count": 6,
   "metadata": {},
   "outputs": [],
   "source": [
    "#env.close()"
   ]
  },
  {
   "cell_type": "markdown",
   "metadata": {},
   "source": [
    "### 4. It's Your Turn!\n",
    "\n",
    "Now it's your turn to train your own agent to solve the environment!  When training the environment, set `train_mode=True`, so that the line for resetting the environment looks like the following:\n",
    "```python\n",
    "env_info = env.reset(train_mode=True)[brain_name]\n",
    "```"
   ]
  },
  {
   "cell_type": "code",
   "execution_count": 7,
   "metadata": {},
   "outputs": [],
   "source": [
    "import random\n",
    "import torch\n",
    "import numpy as np\n",
    "from collections import deque\n",
    "import matplotlib.pyplot as plt\n",
    "%matplotlib inline"
   ]
  },
  {
   "cell_type": "code",
   "execution_count": 8,
   "metadata": {},
   "outputs": [],
   "source": [
    "#Training the Deep-Q Agent\n",
    "\n",
    "def Train_DeepQNetwork(env,brain_name, agent,num_episodes = 5000 ,max_timesteps = 1000 , eps_start = 1 ,eps_end=0.01,eps_decay =0.995,train_mode=True):\n",
    "    \"\"\"Deep Q-Learning \n",
    "    \n",
    "    Params\n",
    "    ======\n",
    "        n_episodes (int): maximum number of training episodes\n",
    "        max_t (int): maximum number of timesteps per episode\n",
    "        eps_start (float): starting value of epsilon, for epsilon-greedy action selection\n",
    "        eps_end (float): minimum value of epsilon\n",
    "        eps_decay (float): multiplicative factor (per episode) for decreasing epsilon\n",
    "    \"\"\"\n",
    "    \n",
    "    scores = [] # scores list from each episode\n",
    "    \n",
    "    scores_wndw = deque(maxlen=100) #last 100 scores\n",
    "    \n",
    "    eps = eps_start # initial value of epsilon\n",
    "    \n",
    "    for episode in range(1,num_episodes+1):\n",
    "        \n",
    "        env_info = env.reset(train_mode)[brain_name] # reset the environment\n",
    "        state = env_info.vector_observations[0]            # get the current state                \n",
    "        score =0\n",
    "               \n",
    "        for time_step in range(max_timesteps):          \n",
    "            action = agent.act(state,eps)          \n",
    "            env_info = env.step(int(action))[brain_name]        # send the action to the environment\n",
    "            next_state = env_info.vector_observations[0]   # get the next state\n",
    "            reward = env_info.rewards[0]                   # get the reward\n",
    "            done = env_info.local_done[0]           \n",
    "            agent.step(state,action,reward,next_state,done)\n",
    "            state = next_state\n",
    "            score += reward\n",
    "            if done:\n",
    "                break\n",
    "        scores_wndw.append(score)\n",
    "        scores.append(score)           \n",
    "        eps = max(eps_end,eps_decay*eps)\n",
    "            \n",
    "        print('\\rEpisode {}\\tAverage Score: {:.2f}'.format(episode, np.mean(scores_wndw)), end=\"\")\n",
    "              \n",
    "        if episode % 100 == 0: \n",
    "            print('\\rEpisode {}\\tAverage Score: {:.2f}'.format(episode, np.mean(scores_wndw)))\n",
    "        if np.mean(scores_wndw)>=16.0 and train_mode:\n",
    "            print('\\nEnvironment solved in {:d} episodes!\\tAverage Score: {:.2f}'.format(episode-100, np.mean(scores_wndw)))\n",
    "            torch.save(agent.Qnet_local.state_dict(), 'DQN_Checkpoint_2.pth')\n",
    "            break\n",
    "            \n",
    "    return scores\n",
    "    \n",
    "\n",
    "\n"
   ]
  },
  {
   "cell_type": "code",
   "execution_count": 9,
   "metadata": {},
   "outputs": [],
   "source": [
    "def mainfunc():\n",
    "    env = UnityEnvironment(file_name=\"Banana_Windows_x86_64/Banana_Windows_x86_64/Banana.exe\")\n",
    "    # get the default brain\n",
    "    brain_name = env.brain_names[0]\n",
    "    brain = env.brains[brain_name]    \n",
    "    print(brain_name)    \n",
    "    print(brain)\n",
    "    # reset the environment\n",
    "    env_info = env.reset(train_mode=True)[brain_name]\n",
    "    # number of actions\n",
    "    action_size = brain.vector_action_space_size\n",
    "    print('Number of actions:', action_size)\n",
    "    # examine the state space \n",
    "    state = env_info.vector_observations[0]\n",
    "    print('States look like:', state)\n",
    "    state_size = len(state)\n",
    "    print('States have length:', state_size)\n",
    "    print('State shape: ', env_info.vector_observations[0].shape)\n",
    "    # number of agents in the environment\n",
    "    print('Number of agents:', len(env_info.agents))\n",
    "        \n",
    "    QAgent = Agent(state_size=env_info.vector_observations[0].shape[0],action_size =brain.vector_action_space_size,seed=0)\n",
    "    training_scores = Train_DeepQNetwork(env,brain_name, QAgent)\n",
    "        \n",
    "    #plotting the scores\n",
    "    fig = plt.figure()\n",
    "    ax= fig.add_subplot(111)\n",
    "    plt.plot(np.arange(len(training_scores)),training_scores)\n",
    "    plt.ylabel('Score')\n",
    "    plt.xlabel('Episode Number')\n",
    "    plt.show()"
   ]
  },
  {
   "cell_type": "code",
   "execution_count": 10,
   "metadata": {},
   "outputs": [
    {
     "name": "stderr",
     "output_type": "stream",
     "text": [
      "INFO:unityagents:\n",
      "'Academy' started successfully!\n",
      "Unity Academy name: Academy\n",
      "        Number of Brains: 1\n",
      "        Number of External Brains : 1\n",
      "        Lesson number : 0\n",
      "        Reset Parameters :\n",
      "\t\t\n",
      "Unity brain name: BananaBrain\n",
      "        Number of Visual Observations (per agent): 0\n",
      "        Vector Observation space type: continuous\n",
      "        Vector Observation space size (per agent): 37\n",
      "        Number of stacked Vector Observation: 1\n",
      "        Vector Action space type: discrete\n",
      "        Vector Action space size (per agent): 4\n",
      "        Vector Action descriptions: , , , \n"
     ]
    },
    {
     "name": "stdout",
     "output_type": "stream",
     "text": [
      "BananaBrain\n",
      "Unity brain name: BananaBrain\n",
      "        Number of Visual Observations (per agent): 0\n",
      "        Vector Observation space type: continuous\n",
      "        Vector Observation space size (per agent): 37\n",
      "        Number of stacked Vector Observation: 1\n",
      "        Vector Action space type: discrete\n",
      "        Vector Action space size (per agent): 4\n",
      "        Vector Action descriptions: , , , \n",
      "Number of actions: 4\n",
      "States look like: [1.         0.         0.         0.         0.84408134 0.\n",
      " 0.         1.         0.         0.0748472  0.         1.\n",
      " 0.         0.         0.25755    1.         0.         0.\n",
      " 0.         0.74177343 0.         1.         0.         0.\n",
      " 0.25854847 0.         0.         1.         0.         0.09355672\n",
      " 0.         1.         0.         0.         0.31969345 0.\n",
      " 0.        ]\n",
      "States have length: 37\n",
      "State shape:  (37,)\n",
      "Number of agents: 1\n",
      "Episode 100\tAverage Score: 0.98\n",
      "Episode 200\tAverage Score: 4.25\n",
      "Episode 300\tAverage Score: 7.78\n",
      "Episode 400\tAverage Score: 10.56\n",
      "Episode 500\tAverage Score: 12.14\n",
      "Episode 600\tAverage Score: 13.89\n",
      "Episode 700\tAverage Score: 14.90\n",
      "Episode 800\tAverage Score: 15.14\n",
      "Episode 900\tAverage Score: 15.90\n",
      "Episode 1000\tAverage Score: 14.60\n",
      "Episode 1064\tAverage Score: 16.01\n",
      "Environment solved in 964 episodes!\tAverage Score: 16.01\n"
     ]
    },
    {
     "data": {
      "image/png": "[encoded data removed]",
      "text/plain": [
       "<Figure size 432x288 with 1 Axes>"
      ]
     },
     "metadata": {
      "needs_background": "light"
     },
     "output_type": "display_data"
    }
   ],
   "source": [
    "if __name__ == \"__main__\":\n",
    "    mainfunc()"
   ]
  },
  {
   "cell_type": "code",
   "execution_count": null,
   "metadata": {},
   "outputs": [],
   "source": []
  }
 ],
 "metadata": {
  "kernelspec": {
   "display_name": "drlnd",
   "language": "python",
   "name": "drlnd"
  },
  "language_info": {
   "codemirror_mode": {
    "name": "ipython",
    "version": 3
   },
   "file_extension": ".py",
   "mimetype": "text/x-python",
   "name": "python",
   "nbconvert_exporter": "python",
   "pygments_lexer": "ipython3",
   "version": "3.6.7"
  }
 },
 "nbformat": 4,
 "nbformat_minor": 2
}
