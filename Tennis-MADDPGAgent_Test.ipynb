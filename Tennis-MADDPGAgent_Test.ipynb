{
 "cells": [
  {
   "cell_type": "code",
   "execution_count": 1,
   "metadata": {},
   "outputs": [],
   "source": [
    "from unityagents import UnityEnvironment\n",
    "import numpy as np\n",
    "from collections import deque\n",
    "\n",
    "import matplotlib.pyplot as plt\n",
    "from MADDPG_Agent import MADDPG\n",
    "import torch\n",
    "\n",
    "import random"
   ]
  },
  {
   "cell_type": "code",
   "execution_count": 2,
   "metadata": {},
   "outputs": [
    {
     "name": "stderr",
     "output_type": "stream",
     "text": [
      "INFO:unityagents:\n",
      "'Academy' started successfully!\n",
      "Unity Academy name: Academy\n",
      "        Number of Brains: 1\n",
      "        Number of External Brains : 1\n",
      "        Lesson number : 0\n",
      "        Reset Parameters :\n",
      "\t\t\n",
      "Unity brain name: TennisBrain\n",
      "        Number of Visual Observations (per agent): 0\n",
      "        Vector Observation space type: continuous\n",
      "        Vector Observation space size (per agent): 8\n",
      "        Number of stacked Vector Observation: 3\n",
      "        Vector Action space type: continuous\n",
      "        Vector Action space size (per agent): 2\n",
      "        Vector Action descriptions: , \n"
     ]
    }
   ],
   "source": [
    "env = UnityEnvironment(file_name=\"Tennis_Windows_x86_64\\Tennis_Windows_x86_64\\Tennis.exe\")"
   ]
  },
  {
   "cell_type": "code",
   "execution_count": 3,
   "metadata": {},
   "outputs": [],
   "source": [
    "# get the default brain\n",
    "brain_name = env.brain_names[0]\n",
    "brain = env.brains[brain_name]"
   ]
  },
  {
   "cell_type": "code",
   "execution_count": 4,
   "metadata": {},
   "outputs": [
    {
     "name": "stdout",
     "output_type": "stream",
     "text": [
      "Number of agents: 2\n",
      "Size of each action: 2\n",
      "There are 2 agents. Each observes a state with length: 24\n",
      "The state for the first agent looks like: [ 0.          0.          0.          0.          0.          0.\n",
      "  0.          0.          0.          0.          0.          0.\n",
      "  0.          0.          0.          0.         -6.65278625 -1.5\n",
      " -0.          0.          6.83172083  6.         -0.          0.        ]\n"
     ]
    }
   ],
   "source": [
    "# reset the environment\n",
    "env_info = env.reset(train_mode=True)[brain_name]\n",
    "\n",
    "# number of agents \n",
    "num_agents = len(env_info.agents)\n",
    "print('Number of agents:', num_agents)\n",
    "\n",
    "# size of each action\n",
    "action_size = brain.vector_action_space_size\n",
    "print('Size of each action:', action_size)\n",
    "\n",
    "# examine the state space \n",
    "states = env_info.vector_observations\n",
    "state_size = states.shape[1]\n",
    "print('There are {} agents. Each observes a state with length: {}'.format(states.shape[0], state_size))\n",
    "print('The state for the first agent looks like:', states[0])"
   ]
  },
  {
   "cell_type": "code",
   "execution_count": 5,
   "metadata": {},
   "outputs": [
    {
     "name": "stdout",
     "output_type": "stream",
     "text": [
      "<class 'MADDPG_Agent.MADDPG'>\n"
     ]
    }
   ],
   "source": [
    "MADDPG_Agent = MADDPG(seed=2, noise_start=0.5, update_every=2, gamma=0.99, t_stop_noise=30000)   \n",
    "    \n",
    "print(type(MADDPG_Agent))"
   ]
  },
  {
   "cell_type": "code",
   "execution_count": 6,
   "metadata": {},
   "outputs": [],
   "source": [
    "numagents =2 \n",
    "\n",
    "agentslist = np.zeros(numagents)\n",
    "\n",
    "for i in range(len(agentslist)):\n",
    "    MADDPG_Agent.agents[i].actor_local.load_state_dict(torch.load('checkpoint_actor_agent_'+str(i)+'.pth'))\n",
    "    MADDPG_Agent.agents[i].critic_local.load_state_dict(torch.load('checkpoint_critic_agent_'+str(i)+'.pth'))\n",
    "    "
   ]
  },
  {
   "cell_type": "code",
   "execution_count": 7,
   "metadata": {},
   "outputs": [
    {
     "name": "stderr",
     "output_type": "stream",
     "text": [
      "E:\\Anaconda3\\envs\\drlnd\\lib\\site-packages\\torch\\nn\\functional.py:995: UserWarning: nn.functional.tanh is deprecated. Use torch.tanh instead.\n",
      "  warnings.warn(\"nn.functional.tanh is deprecated. Use torch.tanh instead.\")\n"
     ]
    },
    {
     "name": "stdout",
     "output_type": "stream",
     "text": [
      "Episode 1\tAverage Score: 2.600\n",
      "\n",
      "Score (max over agents) from episode 1: 2.600000038743019\n",
      "\n",
      "\n",
      "Episode 2\tAverage Score: 1.650\n",
      "\n",
      "Score (max over agents) from episode 2: 0.7000000104308128\n",
      "\n",
      "\n",
      "Episode 3\tAverage Score: 1.897\n",
      "\n",
      "Score (max over agents) from episode 3: 2.3900000378489494\n",
      "\n",
      "\n",
      "Episode 4\tAverage Score: 1.473\n",
      "\n",
      "Score (max over agents) from episode 4: 0.20000000298023224\n",
      "\n",
      "\n",
      "Episode 5\tAverage Score: 1.218\n",
      "\n",
      "Score (max over agents) from episode 5: 0.20000000298023224\n",
      "\n",
      "\n"
     ]
    }
   ],
   "source": [
    "env_info = env.reset(train_mode=False)[brain_name] # reset the environment\n",
    "states = env_info.vector_observations           # get the current state (for each agent)\n",
    "#scores = np.zeros(num_agents)                   # initialize the score (for each agent)\n",
    "#scoreslist = []                        # list containing scores from each episode\n",
    "\n",
    "#for i in range(1, 6): \n",
    "\n",
    "scores = []\n",
    "scores_deque = deque(maxlen=100)\n",
    "scores_avg = []\n",
    "\n",
    "num_episodes = 5\n",
    "\n",
    "for i in range(1, num_episodes+1):                                      # play game for 30 episodes\n",
    "\n",
    "    #env_info = env.reset(train_mode=False)[brain_name] # reset the environment\n",
    "    #states = env_info.vector_observations           # get the current state (for each agent)\n",
    "    scorestab = np.zeros(num_agents)                   # initialize the score (for each agent)\n",
    "    #scoreslist = []                        # list containing scores from each episode\n",
    "    \n",
    "    rewardslist = []\n",
    "    #env_info = env.reset(train_mode=False)[brain_name]    # reset the environment    \n",
    "    #states = env_info.vector_observations                  # get the current state (for each agent)\n",
    "\n",
    "\n",
    "    while True:\n",
    "        actions = MADDPG_Agent.act(states,i)# select an action (for each agent)\n",
    "        actions = np.clip(actions, -1, 1)                  # all actions between -1 and 1\n",
    "        env_info = env.step(actions)[brain_name]           # send all actions to tne environment\n",
    "        next_states = env_info.vector_observations         # get next state (for each agent)\n",
    "        rewards = env_info.rewards                         # get reward (for each agent)\n",
    "        dones = env_info.local_done                        # see if episode finished\n",
    "        scorestab += env_info.rewards                         # update the score (for each agent)\n",
    "        states = next_states                               # roll over states to next time step\n",
    "        #scoreslist.append(scores)\n",
    "        rewardslist.append(rewards)\n",
    "        if np.any(dones):                                  # exit loop if episode finished\n",
    "            break\n",
    "    \n",
    "    episode_reward = np.max(np.sum(np.array(rewardslist),axis=0))\n",
    "        \n",
    "    scores.append(episode_reward)             # save most recent score to overall score array\n",
    "    scores_deque.append(episode_reward)       # save most recent score to running window of 100 last scores\n",
    "    current_avg_score = np.mean(scores_deque)\n",
    "    scores_avg.append(current_avg_score)      # save average of last 100 scores to average score array\n",
    "    \n",
    "    print('\\rEpisode {}\\tAverage Score: {:.3f}'.format(i, current_avg_score),end=\"\")\n",
    "    \n",
    "    print(\"\\n\")\n",
    "    \n",
    "    print('Score (max over agents) from episode {}: {}'.format(i, np.max(scorestab)))\n",
    "    \n",
    "    print(\"\\n\")\n",
    "            \n",
    "    #print('Score (max over agents) from episode {}: {}'.format(i, np.max(scores)))"
   ]
  },
  {
   "cell_type": "markdown",
   "metadata": {},
   "source": [
    "When finished, you can close the environment."
   ]
  },
  {
   "cell_type": "code",
   "execution_count": 8,
   "metadata": {},
   "outputs": [],
   "source": [
    "env.close()"
   ]
  },
  {
   "cell_type": "code",
   "execution_count": 9,
   "metadata": {},
   "outputs": [
    {
     "data": {
      "image/png": "[encoded data removed]",
      "text/plain": [
       "<Figure size 432x288 with 1 Axes>"
      ]
     },
     "metadata": {
      "needs_background": "light"
     },
     "output_type": "display_data"
    }
   ],
   "source": [
    "# plot the scores\n",
    "#fig = plt.figure()\n",
    "#ax = fig.add_subplot(111)\n",
    "#plt.plot(np.arange(1,len(scoreslist)+1), scoreslist)\n",
    "#plt.ylabel('Score')\n",
    "#plt.xlabel('Episode #')\n",
    "#plt.show()\n",
    "\n",
    "\n",
    "fig = plt.figure()\n",
    "ax= fig.add_subplot(111)\n",
    "plt.plot(np.arange(1,len(scores)+1),scores)\n",
    "plt.ylabel('Score')\n",
    "plt.xlabel('Episode Number')\n",
    "plt.show()"
   ]
  },
  {
   "cell_type": "code",
   "execution_count": null,
   "metadata": {},
   "outputs": [],
   "source": []
  }
 ],
 "metadata": {
  "kernelspec": {
   "display_name": "drlnd",
   "language": "python",
   "name": "drlnd"
  },
  "language_info": {
   "codemirror_mode": {
    "name": "ipython",
    "version": 3
   },
   "file_extension": ".py",
   "mimetype": "text/x-python",
   "name": "python",
   "nbconvert_exporter": "python",
   "pygments_lexer": "ipython3",
   "version": "3.6.7"
  }
 },
 "nbformat": 4,
 "nbformat_minor": 2
}
